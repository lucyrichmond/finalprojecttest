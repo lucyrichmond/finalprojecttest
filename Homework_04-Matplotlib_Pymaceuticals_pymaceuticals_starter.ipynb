{
 "cells": [
  {
   "cell_type": "markdown",
   "metadata": {},
   "source": [
    "## Observations and Insights"
   ]
  },
  {
   "cell_type": "markdown",
   "metadata": {},
   "source": []
  },
  {
   "cell_type": "markdown",
   "metadata": {},
   "source": [
    "## Dependencies and starter code"
   ]
  },
  {
   "cell_type": "code",
   "execution_count": 9,
   "metadata": {},
   "outputs": [
    {
     "data": {
      "text/html": [
       "<div>\n",
       "<style scoped>\n",
       "    .dataframe tbody tr th:only-of-type {\n",
       "        vertical-align: middle;\n",
       "    }\n",
       "\n",
       "    .dataframe tbody tr th {\n",
       "        vertical-align: top;\n",
       "    }\n",
       "\n",
       "    .dataframe thead th {\n",
       "        text-align: right;\n",
       "    }\n",
       "</style>\n",
       "<table border=\"1\" class=\"dataframe\">\n",
       "  <thead>\n",
       "    <tr style=\"text-align: right;\">\n",
       "      <th></th>\n",
       "      <th>Mouse ID</th>\n",
       "      <th>Drug Regimen</th>\n",
       "      <th>Sex</th>\n",
       "      <th>Age_months</th>\n",
       "      <th>Weight (g)</th>\n",
       "      <th>Timepoint</th>\n",
       "      <th>Tumor Volume (mm3)</th>\n",
       "      <th>Metastatic Sites</th>\n",
       "    </tr>\n",
       "  </thead>\n",
       "  <tbody>\n",
       "    <tr>\n",
       "      <td>0</td>\n",
       "      <td>k403</td>\n",
       "      <td>Ramicane</td>\n",
       "      <td>Male</td>\n",
       "      <td>21</td>\n",
       "      <td>16</td>\n",
       "      <td>0</td>\n",
       "      <td>45.000000</td>\n",
       "      <td>0</td>\n",
       "    </tr>\n",
       "    <tr>\n",
       "      <td>1</td>\n",
       "      <td>k403</td>\n",
       "      <td>Ramicane</td>\n",
       "      <td>Male</td>\n",
       "      <td>21</td>\n",
       "      <td>16</td>\n",
       "      <td>5</td>\n",
       "      <td>38.825898</td>\n",
       "      <td>0</td>\n",
       "    </tr>\n",
       "    <tr>\n",
       "      <td>2</td>\n",
       "      <td>k403</td>\n",
       "      <td>Ramicane</td>\n",
       "      <td>Male</td>\n",
       "      <td>21</td>\n",
       "      <td>16</td>\n",
       "      <td>10</td>\n",
       "      <td>35.014271</td>\n",
       "      <td>1</td>\n",
       "    </tr>\n",
       "    <tr>\n",
       "      <td>3</td>\n",
       "      <td>k403</td>\n",
       "      <td>Ramicane</td>\n",
       "      <td>Male</td>\n",
       "      <td>21</td>\n",
       "      <td>16</td>\n",
       "      <td>15</td>\n",
       "      <td>34.223992</td>\n",
       "      <td>1</td>\n",
       "    </tr>\n",
       "    <tr>\n",
       "      <td>4</td>\n",
       "      <td>k403</td>\n",
       "      <td>Ramicane</td>\n",
       "      <td>Male</td>\n",
       "      <td>21</td>\n",
       "      <td>16</td>\n",
       "      <td>20</td>\n",
       "      <td>32.997729</td>\n",
       "      <td>1</td>\n",
       "    </tr>\n",
       "    <tr>\n",
       "      <td>...</td>\n",
       "      <td>...</td>\n",
       "      <td>...</td>\n",
       "      <td>...</td>\n",
       "      <td>...</td>\n",
       "      <td>...</td>\n",
       "      <td>...</td>\n",
       "      <td>...</td>\n",
       "      <td>...</td>\n",
       "    </tr>\n",
       "    <tr>\n",
       "      <td>1888</td>\n",
       "      <td>z969</td>\n",
       "      <td>Naftisol</td>\n",
       "      <td>Male</td>\n",
       "      <td>9</td>\n",
       "      <td>30</td>\n",
       "      <td>25</td>\n",
       "      <td>63.145652</td>\n",
       "      <td>2</td>\n",
       "    </tr>\n",
       "    <tr>\n",
       "      <td>1889</td>\n",
       "      <td>z969</td>\n",
       "      <td>Naftisol</td>\n",
       "      <td>Male</td>\n",
       "      <td>9</td>\n",
       "      <td>30</td>\n",
       "      <td>30</td>\n",
       "      <td>65.841013</td>\n",
       "      <td>3</td>\n",
       "    </tr>\n",
       "    <tr>\n",
       "      <td>1890</td>\n",
       "      <td>z969</td>\n",
       "      <td>Naftisol</td>\n",
       "      <td>Male</td>\n",
       "      <td>9</td>\n",
       "      <td>30</td>\n",
       "      <td>35</td>\n",
       "      <td>69.176246</td>\n",
       "      <td>4</td>\n",
       "    </tr>\n",
       "    <tr>\n",
       "      <td>1891</td>\n",
       "      <td>z969</td>\n",
       "      <td>Naftisol</td>\n",
       "      <td>Male</td>\n",
       "      <td>9</td>\n",
       "      <td>30</td>\n",
       "      <td>40</td>\n",
       "      <td>70.314904</td>\n",
       "      <td>4</td>\n",
       "    </tr>\n",
       "    <tr>\n",
       "      <td>1892</td>\n",
       "      <td>z969</td>\n",
       "      <td>Naftisol</td>\n",
       "      <td>Male</td>\n",
       "      <td>9</td>\n",
       "      <td>30</td>\n",
       "      <td>45</td>\n",
       "      <td>73.867845</td>\n",
       "      <td>4</td>\n",
       "    </tr>\n",
       "  </tbody>\n",
       "</table>\n",
       "<p>1893 rows × 8 columns</p>\n",
       "</div>"
      ],
      "text/plain": [
       "     Mouse ID Drug Regimen   Sex  Age_months  Weight (g)  Timepoint  \\\n",
       "0        k403     Ramicane  Male          21          16          0   \n",
       "1        k403     Ramicane  Male          21          16          5   \n",
       "2        k403     Ramicane  Male          21          16         10   \n",
       "3        k403     Ramicane  Male          21          16         15   \n",
       "4        k403     Ramicane  Male          21          16         20   \n",
       "...       ...          ...   ...         ...         ...        ...   \n",
       "1888     z969     Naftisol  Male           9          30         25   \n",
       "1889     z969     Naftisol  Male           9          30         30   \n",
       "1890     z969     Naftisol  Male           9          30         35   \n",
       "1891     z969     Naftisol  Male           9          30         40   \n",
       "1892     z969     Naftisol  Male           9          30         45   \n",
       "\n",
       "      Tumor Volume (mm3)  Metastatic Sites  \n",
       "0              45.000000                 0  \n",
       "1              38.825898                 0  \n",
       "2              35.014271                 1  \n",
       "3              34.223992                 1  \n",
       "4              32.997729                 1  \n",
       "...                  ...               ...  \n",
       "1888           63.145652                 2  \n",
       "1889           65.841013                 3  \n",
       "1890           69.176246                 4  \n",
       "1891           70.314904                 4  \n",
       "1892           73.867845                 4  \n",
       "\n",
       "[1893 rows x 8 columns]"
      ]
     },
     "execution_count": 9,
     "metadata": {},
     "output_type": "execute_result"
    }
   ],
   "source": [
    "# Dependencies and Setup\n",
    "import matplotlib.pyplot as plt\n",
    "import pandas as pd\n",
    "import numpy as np\n",
    "import scipy.stats as sts\n",
    "from scipy.stats import sem\n",
    "from scipy.stats import stats\n",
    "\n",
    "\n",
    "# Study data files\n",
    "mouse_metadata = \"data/Mouse_metadata.csv\"\n",
    "study_results = \"data/Study_results.csv\"\n",
    "\n",
    "# Read the mouse data and the study results\n",
    "mouse_metadata = pd.read_csv(mouse_metadata)\n",
    "study_results = pd.read_csv(study_results)\n",
    "\n",
    "# Combine the data into a single dataset\n",
    "mouse_study_combined = pd.merge(mouse_metadata,study_results,on='Mouse ID',how='outer')\n",
    "mouse_study_combined"
   ]
  },
  {
   "cell_type": "markdown",
   "metadata": {},
   "source": [
    "## Summary statistics"
   ]
  },
  {
   "cell_type": "code",
   "execution_count": 10,
   "metadata": {},
   "outputs": [
    {
     "data": {
      "text/html": [
       "<div>\n",
       "<style scoped>\n",
       "    .dataframe tbody tr th:only-of-type {\n",
       "        vertical-align: middle;\n",
       "    }\n",
       "\n",
       "    .dataframe tbody tr th {\n",
       "        vertical-align: top;\n",
       "    }\n",
       "\n",
       "    .dataframe thead th {\n",
       "        text-align: right;\n",
       "    }\n",
       "</style>\n",
       "<table border=\"1\" class=\"dataframe\">\n",
       "  <thead>\n",
       "    <tr style=\"text-align: right;\">\n",
       "      <th></th>\n",
       "      <th>count</th>\n",
       "      <th>mean</th>\n",
       "      <th>std</th>\n",
       "      <th>min</th>\n",
       "      <th>25%</th>\n",
       "      <th>50%</th>\n",
       "      <th>75%</th>\n",
       "      <th>max</th>\n",
       "      <th>SEM</th>\n",
       "      <th>Median</th>\n",
       "      <th>Variance</th>\n",
       "    </tr>\n",
       "    <tr>\n",
       "      <th>Drug Regimen</th>\n",
       "      <th></th>\n",
       "      <th></th>\n",
       "      <th></th>\n",
       "      <th></th>\n",
       "      <th></th>\n",
       "      <th></th>\n",
       "      <th></th>\n",
       "      <th></th>\n",
       "      <th></th>\n",
       "      <th></th>\n",
       "      <th></th>\n",
       "    </tr>\n",
       "  </thead>\n",
       "  <tbody>\n",
       "    <tr>\n",
       "      <td>Capomulin</td>\n",
       "      <td>230.0</td>\n",
       "      <td>40.675741</td>\n",
       "      <td>4.994774</td>\n",
       "      <td>23.343598</td>\n",
       "      <td>37.685933</td>\n",
       "      <td>41.557809</td>\n",
       "      <td>45.000000</td>\n",
       "      <td>48.158209</td>\n",
       "      <td>0.329346</td>\n",
       "      <td>41.557809</td>\n",
       "      <td>24.947764</td>\n",
       "    </tr>\n",
       "    <tr>\n",
       "      <td>Ceftamin</td>\n",
       "      <td>178.0</td>\n",
       "      <td>52.591172</td>\n",
       "      <td>6.268188</td>\n",
       "      <td>45.000000</td>\n",
       "      <td>47.208427</td>\n",
       "      <td>51.776157</td>\n",
       "      <td>56.801438</td>\n",
       "      <td>68.923185</td>\n",
       "      <td>0.469821</td>\n",
       "      <td>51.776157</td>\n",
       "      <td>39.290177</td>\n",
       "    </tr>\n",
       "    <tr>\n",
       "      <td>Infubinol</td>\n",
       "      <td>178.0</td>\n",
       "      <td>52.884795</td>\n",
       "      <td>6.567243</td>\n",
       "      <td>36.321346</td>\n",
       "      <td>47.312353</td>\n",
       "      <td>51.820584</td>\n",
       "      <td>57.314444</td>\n",
       "      <td>72.226731</td>\n",
       "      <td>0.492236</td>\n",
       "      <td>51.820584</td>\n",
       "      <td>43.128684</td>\n",
       "    </tr>\n",
       "    <tr>\n",
       "      <td>Ketapril</td>\n",
       "      <td>188.0</td>\n",
       "      <td>55.235638</td>\n",
       "      <td>8.279709</td>\n",
       "      <td>45.000000</td>\n",
       "      <td>48.232987</td>\n",
       "      <td>53.698743</td>\n",
       "      <td>60.870951</td>\n",
       "      <td>78.567014</td>\n",
       "      <td>0.603860</td>\n",
       "      <td>53.698743</td>\n",
       "      <td>68.553577</td>\n",
       "    </tr>\n",
       "    <tr>\n",
       "      <td>Naftisol</td>\n",
       "      <td>186.0</td>\n",
       "      <td>54.331565</td>\n",
       "      <td>8.134708</td>\n",
       "      <td>45.000000</td>\n",
       "      <td>47.285874</td>\n",
       "      <td>52.509285</td>\n",
       "      <td>59.963034</td>\n",
       "      <td>76.668817</td>\n",
       "      <td>0.596466</td>\n",
       "      <td>52.509285</td>\n",
       "      <td>66.173479</td>\n",
       "    </tr>\n",
       "    <tr>\n",
       "      <td>Placebo</td>\n",
       "      <td>181.0</td>\n",
       "      <td>54.033581</td>\n",
       "      <td>7.821003</td>\n",
       "      <td>45.000000</td>\n",
       "      <td>47.459053</td>\n",
       "      <td>52.288934</td>\n",
       "      <td>59.916934</td>\n",
       "      <td>73.212939</td>\n",
       "      <td>0.581331</td>\n",
       "      <td>52.288934</td>\n",
       "      <td>61.168083</td>\n",
       "    </tr>\n",
       "    <tr>\n",
       "      <td>Propriva</td>\n",
       "      <td>161.0</td>\n",
       "      <td>52.322552</td>\n",
       "      <td>6.507770</td>\n",
       "      <td>45.000000</td>\n",
       "      <td>47.081086</td>\n",
       "      <td>50.854632</td>\n",
       "      <td>56.184664</td>\n",
       "      <td>72.455421</td>\n",
       "      <td>0.512884</td>\n",
       "      <td>50.854632</td>\n",
       "      <td>42.351070</td>\n",
       "    </tr>\n",
       "    <tr>\n",
       "      <td>Ramicane</td>\n",
       "      <td>228.0</td>\n",
       "      <td>40.216745</td>\n",
       "      <td>4.846308</td>\n",
       "      <td>22.050126</td>\n",
       "      <td>36.674635</td>\n",
       "      <td>40.673236</td>\n",
       "      <td>45.000000</td>\n",
       "      <td>47.622816</td>\n",
       "      <td>0.320955</td>\n",
       "      <td>40.673236</td>\n",
       "      <td>23.486704</td>\n",
       "    </tr>\n",
       "    <tr>\n",
       "      <td>Stelasyn</td>\n",
       "      <td>181.0</td>\n",
       "      <td>54.233149</td>\n",
       "      <td>7.710419</td>\n",
       "      <td>45.000000</td>\n",
       "      <td>48.047139</td>\n",
       "      <td>52.431737</td>\n",
       "      <td>58.719297</td>\n",
       "      <td>75.123690</td>\n",
       "      <td>0.573111</td>\n",
       "      <td>52.431737</td>\n",
       "      <td>59.450562</td>\n",
       "    </tr>\n",
       "    <tr>\n",
       "      <td>Zoniferol</td>\n",
       "      <td>182.0</td>\n",
       "      <td>53.236507</td>\n",
       "      <td>6.966589</td>\n",
       "      <td>45.000000</td>\n",
       "      <td>47.337876</td>\n",
       "      <td>51.818479</td>\n",
       "      <td>57.954259</td>\n",
       "      <td>73.324432</td>\n",
       "      <td>0.516398</td>\n",
       "      <td>51.818479</td>\n",
       "      <td>48.533355</td>\n",
       "    </tr>\n",
       "  </tbody>\n",
       "</table>\n",
       "</div>"
      ],
      "text/plain": [
       "              count       mean       std        min        25%        50%  \\\n",
       "Drug Regimen                                                                \n",
       "Capomulin     230.0  40.675741  4.994774  23.343598  37.685933  41.557809   \n",
       "Ceftamin      178.0  52.591172  6.268188  45.000000  47.208427  51.776157   \n",
       "Infubinol     178.0  52.884795  6.567243  36.321346  47.312353  51.820584   \n",
       "Ketapril      188.0  55.235638  8.279709  45.000000  48.232987  53.698743   \n",
       "Naftisol      186.0  54.331565  8.134708  45.000000  47.285874  52.509285   \n",
       "Placebo       181.0  54.033581  7.821003  45.000000  47.459053  52.288934   \n",
       "Propriva      161.0  52.322552  6.507770  45.000000  47.081086  50.854632   \n",
       "Ramicane      228.0  40.216745  4.846308  22.050126  36.674635  40.673236   \n",
       "Stelasyn      181.0  54.233149  7.710419  45.000000  48.047139  52.431737   \n",
       "Zoniferol     182.0  53.236507  6.966589  45.000000  47.337876  51.818479   \n",
       "\n",
       "                    75%        max       SEM     Median   Variance  \n",
       "Drug Regimen                                                        \n",
       "Capomulin     45.000000  48.158209  0.329346  41.557809  24.947764  \n",
       "Ceftamin      56.801438  68.923185  0.469821  51.776157  39.290177  \n",
       "Infubinol     57.314444  72.226731  0.492236  51.820584  43.128684  \n",
       "Ketapril      60.870951  78.567014  0.603860  53.698743  68.553577  \n",
       "Naftisol      59.963034  76.668817  0.596466  52.509285  66.173479  \n",
       "Placebo       59.916934  73.212939  0.581331  52.288934  61.168083  \n",
       "Propriva      56.184664  72.455421  0.512884  50.854632  42.351070  \n",
       "Ramicane      45.000000  47.622816  0.320955  40.673236  23.486704  \n",
       "Stelasyn      58.719297  75.123690  0.573111  52.431737  59.450562  \n",
       "Zoniferol     57.954259  73.324432  0.516398  51.818479  48.533355  "
      ]
     },
     "execution_count": 10,
     "metadata": {},
     "output_type": "execute_result"
    }
   ],
   "source": [
    "# Generate a summary statistics table of mean, median, variance, standard deviation, and SEM of the tumor volume for each regimen\n",
    "study_group = mouse_study_combined.groupby('Drug Regimen')\n",
    "volume_group = study_group['Tumor Volume (mm3)'].describe()\n",
    "volume_group['SEM'] =study_group.sem()['Tumor Volume (mm3)']\n",
    "volume_group[\"Median\"] =study_group.median()[\"Tumor Volume (mm3)\"]\n",
    "volume_group[\"Variance\"] =study_group.var()[\"Tumor Volume (mm3)\"]\n",
    "\n",
    "volume_group\n",
    "\n"
   ]
  },
  {
   "cell_type": "markdown",
   "metadata": {},
   "source": [
    "\n",
    "## Bar plots"
   ]
  },
  {
   "cell_type": "code",
   "execution_count": 71,
   "metadata": {},
   "outputs": [
    {
     "data": {
      "text/plain": [
       "Text(0, 0.5, 'Number of Tests')"
      ]
     },
     "execution_count": 71,
     "metadata": {},
     "output_type": "execute_result"
    },
    {
     "data": {
      "image/png": "[encoded data removed]",
      "text/plain": [
       "<Figure size 432x288 with 1 Axes>"
      ]
     },
     "metadata": {
      "needs_background": "light"
     },
     "output_type": "display_data"
    }
   ],
   "source": [
    "# Generate a bar plot showing number of data points for each treatment regimen using pandas\n",
    "panda_plot = volume_group['count'].plot(kind='bar',facecolor='red',alpha=0.5,title='Drug Regimens by Number of Tests')\n",
    "panda_plot.set_ylabel('Number of Tests')\n"
   ]
  },
  {
   "cell_type": "code",
   "execution_count": 79,
   "metadata": {},
   "outputs": [
    {
     "data": {
      "image/png": "[encoded data removed]",
      "text/plain": [
       "<Figure size 432x288 with 1 Axes>"
      ]
     },
     "metadata": {
      "needs_background": "light"
     },
     "output_type": "display_data"
    }
   ],
   "source": [
    "# Generate a bar plot showing number of data points for each treatment regimen using pyplot\n",
    "x_axis = np.arange(len(volume_group))\n",
    "tick_locations = [value for value in x_axis]\n",
    "plt.bar(x_axis, volume_group['count'], color=('b','r','#ff6361','#58508d','#bc5090','salmon'), alpha=0.5, align=\"center\",)\n",
    "plt.xticks(tick_locations,[\"Capomulin\", \"Ceftamin\", \"Infubinol\", \"Ketapril\", \"Naftisol\", \"Placebo\", \"Propriva\", \"Ramicane\", \"Stelasyn\", \"Zoniferol\"])\n",
    "plt.xticks(rotation=45)\n",
    "plt.title(\"Drug Regimens by Number of Tests\")\n",
    "plt.xlabel('Drug Regimen')\n",
    "plt.ylabel('Number of Tests')\n",
    "plt.show()"
   ]
  },
  {
   "cell_type": "markdown",
   "metadata": {},
   "source": [
    "## Pie plots"
   ]
  },
  {
   "cell_type": "code",
   "execution_count": 13,
   "metadata": {},
   "outputs": [
    {
     "data": {
      "text/html": [
       "<div>\n",
       "<style scoped>\n",
       "    .dataframe tbody tr th:only-of-type {\n",
       "        vertical-align: middle;\n",
       "    }\n",
       "\n",
       "    .dataframe tbody tr th {\n",
       "        vertical-align: top;\n",
       "    }\n",
       "\n",
       "    .dataframe thead th {\n",
       "        text-align: right;\n",
       "    }\n",
       "</style>\n",
       "<table border=\"1\" class=\"dataframe\">\n",
       "  <thead>\n",
       "    <tr style=\"text-align: right;\">\n",
       "      <th></th>\n",
       "      <th>Mouse ID</th>\n",
       "      <th>Drug Regimen</th>\n",
       "      <th>Age_months</th>\n",
       "      <th>Weight (g)</th>\n",
       "      <th>Timepoint</th>\n",
       "      <th>Tumor Volume (mm3)</th>\n",
       "      <th>Metastatic Sites</th>\n",
       "    </tr>\n",
       "    <tr>\n",
       "      <th>Sex</th>\n",
       "      <th></th>\n",
       "      <th></th>\n",
       "      <th></th>\n",
       "      <th></th>\n",
       "      <th></th>\n",
       "      <th></th>\n",
       "      <th></th>\n",
       "    </tr>\n",
       "  </thead>\n",
       "  <tbody>\n",
       "    <tr>\n",
       "      <td>Female</td>\n",
       "      <td>935</td>\n",
       "      <td>935</td>\n",
       "      <td>935</td>\n",
       "      <td>935</td>\n",
       "      <td>935</td>\n",
       "      <td>935</td>\n",
       "      <td>935</td>\n",
       "    </tr>\n",
       "    <tr>\n",
       "      <td>Male</td>\n",
       "      <td>958</td>\n",
       "      <td>958</td>\n",
       "      <td>958</td>\n",
       "      <td>958</td>\n",
       "      <td>958</td>\n",
       "      <td>958</td>\n",
       "      <td>958</td>\n",
       "    </tr>\n",
       "  </tbody>\n",
       "</table>\n",
       "</div>"
      ],
      "text/plain": [
       "        Mouse ID  Drug Regimen  Age_months  Weight (g)  Timepoint  \\\n",
       "Sex                                                                 \n",
       "Female       935           935         935         935        935   \n",
       "Male         958           958         958         958        958   \n",
       "\n",
       "        Tumor Volume (mm3)  Metastatic Sites  \n",
       "Sex                                           \n",
       "Female                 935               935  \n",
       "Male                   958               958  "
      ]
     },
     "execution_count": 13,
     "metadata": {},
     "output_type": "execute_result"
    },
    {
     "data": {
      "image/png": "[encoded data removed]",
      "text/plain": [
       "<Figure size 360x360 with 1 Axes>"
      ]
     },
     "metadata": {},
     "output_type": "display_data"
    }
   ],
   "source": [
    "# Generate a pie plot showing the distribution of female versus male mice using pandas\n",
    "\n",
    "gender_group = mouse_study_combined.groupby('Sex').count()\n",
    "gender_group\n",
    "\n",
    "gender_group_plot = gender_group.plot.pie(y='Mouse ID',figsize=(5,5))\n",
    "\n",
    "gender_group"
   ]
  },
  {
   "cell_type": "code",
   "execution_count": 66,
   "metadata": {},
   "outputs": [
    {
     "data": {
      "text/plain": [
       "Text(0.5, 1.0, 'Mice by Gender')"
      ]
     },
     "execution_count": 66,
     "metadata": {},
     "output_type": "execute_result"
    },
    {
     "data": {
      "image/png": "[encoded data removed]",
      "text/plain": [
       "<Figure size 432x288 with 1 Axes>"
      ]
     },
     "metadata": {},
     "output_type": "display_data"
    }
   ],
   "source": [
    "# Generate a pie plot showing the distribution of female versus male mice using pyplot\n",
    "sex = ['Female','Male']\n",
    "colors = ['Pink','Purple']\n",
    "sex_count = [935, 958]\n",
    "plt.pie(sex_count, labels=sex, colors=colors,autopct='%1.1f%%',shadow=True,startangle=140)\n",
    "plt.title(\"Mice by Gender\")\n",
    "\n"
   ]
  },
  {
   "cell_type": "markdown",
   "metadata": {},
   "source": [
    "## Quartiles, outliers and boxplots"
   ]
  },
  {
   "cell_type": "code",
   "execution_count": 77,
   "metadata": {},
   "outputs": [
    {
     "name": "stdout",
     "output_type": "stream",
     "text": [
      "NormaltestResult(statistic=1.7533453484403934, pvalue=0.4161653281562233)\n",
      "              count       mean       std        min        25%        50%  \\\n",
      "Drug Regimen                                                                \n",
      "Ramicane      228.0  40.216745  4.846308  22.050126  36.674635  40.673236   \n",
      "Capomulin     230.0  40.675741  4.994774  23.343598  37.685933  41.557809   \n",
      "Propriva      161.0  52.322552  6.507770  45.000000  47.081086  50.854632   \n",
      "Ceftamin      178.0  52.591172  6.268188  45.000000  47.208427  51.776157   \n",
      "\n",
      "                    75%        max       SEM     Median   Variance  \n",
      "Drug Regimen                                                        \n",
      "Ramicane      45.000000  47.622816  0.320955  40.673236  23.486704  \n",
      "Capomulin     45.000000  48.158209  0.329346  41.557809  24.947764  \n",
      "Propriva      56.184664  72.455421  0.512884  50.854632  42.351070  \n",
      "Ceftamin      56.801438  68.923185  0.469821  51.776157  39.290177  \n",
      "The lower quartile of final tumor size is: 37.2898392225\n",
      "The upper quartile of final tumor size is: 58.463205455\n",
      "The interquartile range of final tumor size is: 21.1733662325\n",
      "The the median of final tumor size is: 45.0 \n",
      "Values below 5.529789873749998 could be outliers.\n",
      "Values above 90.22325480375 could be outliers.\n",
      "There are 0 outliers.\n"
     ]
    },
    {
     "data": {
      "image/png": "[encoded data removed]",
      "text/plain": [
       "<Figure size 432x288 with 1 Axes>"
      ]
     },
     "metadata": {
      "needs_background": "light"
     },
     "output_type": "display_data"
    }
   ],
   "source": [
    "# Calculate the final tumor volume of each mouse across four of the most promising treatment regimens. Calculate the IQR and quantitatively determine if there are any potential outliers. \n",
    "\n",
    "#Finding if the dataset is normal so we can use mean to find the most promising regimens\n",
    "volume_size = mouse_study_combined[\"Tumor Volume (mm3)\"]\n",
    "plt.hist(volume_size)\n",
    "print(sts.normaltest(volume_size.sample(100)))\n",
    "\n",
    "#Finding the 4 most promising treatments by finding the smallest mean\n",
    "top_performing = volume_group.sort_values('mean',ascending=False).nsmallest(4, \"mean\")\n",
    "print(top_performing)\n",
    "\n",
    "Drugs = ['Ramicane', 'Capomulin', 'Propriva', 'Ceftamin']  \n",
    "\n",
    "top_drugs = mouse_study_combined.loc[(mouse_study_combined['Drug Regimen'] == \"Ramicane\") | (mouse_study_combined['Drug Regimen'] == \"Capomulin\")|\n",
    "                              (mouse_study_combined['Drug Regimen'] == \"Propriva\")|(mouse_study_combined['Drug Regimen'] == \"Ceftamin\")]\n",
    "top_drugs\n",
    "\n",
    "\n",
    "top_drugs_grouped = top_drugs.groupby([\"Mouse ID\"])\n",
    "\n",
    "#creating a new dataframe that has the mouse ID and their max timpoint\n",
    "timepoint_max = top_drugs_grouped['Timepoint'].max()\n",
    "timepoint_max\n",
    "\n",
    "#merging the max timepoint dataframe with my original dataframe with the top 4 treatment drugs\n",
    "merged_df = pd.merge(top_drugs,timepoint_max,on='Mouse ID',how='outer')\n",
    "merged_df\n",
    "\n",
    "#pulling out the rows where the mouse's timepoint equals the max\n",
    "top_drugs_max = merged_df.loc[(merged_df[\"Timepoint_x\"] == merged_df[\"Timepoint_y\"])]\n",
    "\n",
    "#final tumor volume of each mouse across four of the most promising treatment regimens\n",
    "final_tumor_df = top_drugs_max[['Mouse ID', 'Tumor Volume (mm3)']]\n",
    "final_tumor_df\n",
    "\n",
    "final_tumor_df.set_index('Mouse ID')\n",
    "        \n",
    "#Calculate the IQR and quantitatively determine if there are any potential outliers. \n",
    "\n",
    "final_tumors = final_tumor_df['Tumor Volume (mm3)']\n",
    "\n",
    "quartiles = final_tumors.quantile([.25,.5,.75])\n",
    "lowerq = quartiles[0.25]\n",
    "upperq = quartiles[0.75]\n",
    "iqr = upperq-lowerq\n",
    "\n",
    "print(f\"The lower quartile of final tumor size is: {lowerq}\")\n",
    "print(f\"The upper quartile of final tumor size is: {upperq}\")\n",
    "print(f\"The interquartile range of final tumor size is: {iqr}\")\n",
    "print(f\"The the median of final tumor size is: {quartiles[0.5]} \")\n",
    "\n",
    "lower_bound = lowerq - (1.5*iqr)\n",
    "upper_bound = upperq + (1.5*iqr)\n",
    "print(f\"Values below {lower_bound} could be outliers.\")\n",
    "print(f\"Values above {upper_bound} could be outliers.\")\n",
    "\n",
    "outliers = final_tumor_df.loc[(final_tumor_df['Tumor Volume (mm3)'] > upper_bound) | (final_tumor_df['Tumor Volume (mm3)'] < lower_bound)]\n",
    "outliers\n",
    "\n",
    "print(f\"There are {len(outliers)} outliers.\")"
   ]
  },
  {
   "cell_type": "code",
   "execution_count": 63,
   "metadata": {},
   "outputs": [
    {
     "data": {
      "image/png": "[encoded data removed]",
      "text/plain": [
       "<Figure size 432x288 with 1 Axes>"
      ]
     },
     "metadata": {
      "needs_background": "light"
     },
     "output_type": "display_data"
    }
   ],
   "source": [
    "# Generate a box plot of the final tumor volume of each mouse across four regimens of interest\n",
    "\n",
    "final_tumors\n",
    "\n",
    "fig1, ax1 = plt.subplots()\n",
    "ax1.set_title('Final Tumor Volumes')\n",
    "ax1.set_ylabel('Size (mm3)')\n",
    "ax1.boxplot(final_tumors)\n",
    "plt.show()\n",
    "\n"
   ]
  },
  {
   "cell_type": "code",
   "execution_count": 60,
   "metadata": {},
   "outputs": [],
   "source": [
    "## Line and scatter plots"
   ]
  },
  {
   "cell_type": "code",
   "execution_count": 59,
   "metadata": {},
   "outputs": [
    {
     "data": {
      "text/plain": [
       "Text(0, 0.5, 'Tumor Volume in mm3')"
      ]
     },
     "execution_count": 59,
     "metadata": {},
     "output_type": "execute_result"
    },
    {
     "data": {
      "image/png": "[encoded data removed]",
      "text/plain": [
       "<Figure size 432x288 with 1 Axes>"
      ]
     },
     "metadata": {
      "needs_background": "light"
     },
     "output_type": "display_data"
    }
   ],
   "source": [
    "# Generate a line plot of time point versus tumor volume for a mouse treated with Capomulin\n",
    "\n",
    "capomulin = mouse_study_combined.loc[(mouse_study_combined[\"Drug Regimen\"] == \"Capomulin\") & (mouse_study_combined[\"Mouse ID\"] == \"s185\")]\n",
    "capomulin\n",
    "x_axis = capomulin[\"Timepoint\"]\n",
    "y_axis = capomulin[\"Tumor Volume (mm3)\"]\n",
    "plt.plot(x_axis, y_axis, marker=\"o\", color=\"magenta\", linewidth=1)\n",
    "# Label and title chart\n",
    "plt.title(\"Tumor Volume Over Time for Mouse s185\")\n",
    "plt.xlabel(\"Time\")\n",
    "plt.ylabel(\"Tumor Volume in mm3\")"
   ]
  },
  {
   "cell_type": "code",
   "execution_count": 17,
   "metadata": {},
   "outputs": [
    {
     "data": {
      "text/plain": [
       "Text(0, 0.5, 'Tumor Volume in mm3')"
      ]
     },
     "execution_count": 17,
     "metadata": {},
     "output_type": "execute_result"
    },
    {
     "data": {
      "image/png": "[encoded data removed]",
      "text/plain": [
       "<Figure size 432x288 with 1 Axes>"
      ]
     },
     "metadata": {
      "needs_background": "light"
     },
     "output_type": "display_data"
    }
   ],
   "source": [
    "# Generate a scatter plot of mouse weight versus average tumor volume for the Capomulin regimen\n",
    "\n",
    "weight = mouse_study_combined[[\"Drug Regimen\", \"Mouse ID\", \"Weight (g)\", \"Tumor Volume (mm3)\"]]\n",
    "capomulin = mouse_study_combined.loc[(mouse_study_combined[\"Drug Regimen\"] == \"Capomulin\")]\n",
    "capomulin\n",
    "x_axis = capomulin[\"Weight (g)\"]\n",
    "y_axis = capomulin[\"Tumor Volume (mm3)\"]\n",
    "#plot\n",
    "plt.scatter(x_axis, y_axis, marker=\"o\") \n",
    "# Label and title chart\n",
    "plt.title(\"Tumor Volume vs. Mouse Weight\")\n",
    "plt.xlabel(\"Mouse Weight\")\n",
    "plt.ylabel(\"Tumor Volume in mm3\")\n",
    "\n",
    "\n"
   ]
  },
  {
   "cell_type": "code",
   "execution_count": 18,
   "metadata": {},
   "outputs": [
    {
     "data": {
      "image/png": "[encoded data removed]",
      "text/plain": [
       "<Figure size 432x288 with 1 Axes>"
      ]
     },
     "metadata": {
      "needs_background": "light"
     },
     "output_type": "display_data"
    }
   ],
   "source": [
    "# Calculate the correlation coefficient and linear regression model for mouse weight and average tumor volume for the Capomulin regimen\n",
    "\n",
    "#Determine Values\n",
    "x_values = capomulin[\"Weight (g)\"]\n",
    "y_values = capomulin[\"Tumor Volume (mm3)\"]\n",
    "\n",
    "#Determine line regression\n",
    "(slope, intercept, rvalue, pvalue, stderr) = stats.linregress(x_values, y_values)\n",
    "regress_values = x_values * slope + intercept\n",
    "\n",
    "#Get line equation\n",
    "line_eq = \"y = \" + str(round(slope,2)) + \"x + \" + str(round(intercept,2))\n",
    "\n",
    "#Plot details\n",
    "plt.scatter(x_values,y_values)\n",
    "plt.plot(x_values,regress_values,\"r-\")\n",
    "plt.annotate(line_eq,(20,23),fontsize=15,color=\"red\")\n",
    "plt.title(\"Tumor Volume vs. Mouse Weight\")\n",
    "plt.xlabel(\"Mouse Weight\")\n",
    "plt.ylabel(\"Tumor Volume (mm3)\")\n",
    "plt.show()\n",
    "\n",
    "\n"
   ]
  },
  {
   "cell_type": "code",
   "execution_count": null,
   "metadata": {},
   "outputs": [],
   "source": []
  },
  {
   "cell_type": "code",
   "execution_count": null,
   "metadata": {},
   "outputs": [],
   "source": []
  },
  {
   "cell_type": "code",
   "execution_count": null,
   "metadata": {},
   "outputs": [],
   "source": []
  }
 ],
 "metadata": {
  "anaconda-cloud": {},
  "kernelspec": {
   "display_name": "Python 3",
   "language": "python",
   "name": "python3"
  },
  "language_info": {
   "codemirror_mode": {
    "name": "ipython",
    "version": 3
   },
   "file_extension": ".py",
   "mimetype": "text/x-python",
   "name": "python",
   "nbconvert_exporter": "python",
   "pygments_lexer": "ipython3",
   "version": "3.7.4"
  },
  "widgets": {
   "application/vnd.jupyter.widget-state+json": {
    "state": {},
    "version_major": 2,
    "version_minor": 0
   }
  }
 },
 "nbformat": 4,
 "nbformat_minor": 2
}
